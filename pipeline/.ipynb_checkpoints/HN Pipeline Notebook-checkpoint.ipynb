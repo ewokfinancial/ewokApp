{
 "cells": [
  {
   "cell_type": "code",
   "execution_count": 15,
   "metadata": {},
   "outputs": [],
   "source": [
    "from pipeline import Pipeline, build_csv\n",
    "from HNdata import HNScraper\n",
    "from collections import deque\n",
    "from datetime import datetime \n",
    "import csv\n",
    "import pickle\n",
    "import io\n",
    "import string\n",
    "import pprint as pp"
   ]
  },
  {
   "cell_type": "code",
   "execution_count": 5,
   "metadata": {},
   "outputs": [],
   "source": [
    "# Initialize the pipeline class\n",
    "pipeline = Pipeline()"
   ]
  },
  {
   "cell_type": "code",
   "execution_count": 9,
   "metadata": {},
   "outputs": [],
   "source": [
    "@pipeline.task()\n",
    "def file_to_stories():\n",
    "    with open('stories_2016.pickle', 'rb') as pickle_file:\n",
    "        stories = pickle.load(pickle_file)\n",
    "    return stories"
   ]
  },
  {
   "cell_type": "code",
   "execution_count": 10,
   "metadata": {},
   "outputs": [
    {
     "name": "stdout",
     "output_type": "stream",
     "text": [
      "{'by': 'waahwooh',\n",
      " 'dead': True,\n",
      " 'id': 11142117,\n",
      " 'score': 1,\n",
      " 'time': 1456005146,\n",
      " 'title': 'DECRIPTION OF 22 TYPE OF VIRUS',\n",
      " 'type': 'story',\n",
      " 'url': 'http://www.waahwooh.com/2016/02/22-types-of-virus-with-description.html'}\n"
     ]
    }
   ],
   "source": [
    "pp.pprint(stories[3])"
   ]
  },
  {
   "cell_type": "code",
   "execution_count": 11,
   "metadata": {},
   "outputs": [],
   "source": [
    "@pipeline.task(depends_on=file_to_stories)\n",
    "def filter_stories(stories):\n",
    "    \"\"\"\n",
    "    Filters stories to find those with a score of 50 or more,\n",
    "    more than one comment and does not begin with 'Ask HN' and returns\n",
    "    a list\n",
    "    \"\"\"\n",
    "    filtered_stories = []\n",
    "    def is_popular(story):\n",
    "        if 'dead' in story or 'deleted' in story:\n",
    "            return False\n",
    "        else:\n",
    "            return story['score'] > 50 and story['decendants'] > 1 and not story['title'].startswith('Ask HN')\n",
    "    return (story for story in filtered_stories if is_popular(story))"
   ]
  },
  {
   "cell_type": "code",
   "execution_count": 12,
   "metadata": {},
   "outputs": [],
   "source": [
    "@pipeline.task(depends_on=filter_stories)\n",
    "def json_to_csv(stories):\n",
    "    header = ['objectID', 'created_at', 'url', 'points', 'title']\n",
    "    lines = []\n",
    "    for story in stories:\n",
    "        lines.append(\n",
    "            (story['id'], \n",
    "             datetime.fromtimestamp(story['time']).isoformat(), \n",
    "             story['url'], \n",
    "             story['score'], \n",
    "             story['title'])\n",
    "        )\n",
    "    return build_csv(lines, header=header, file=io.StringIO())"
   ]
  },
  {
   "cell_type": "code",
   "execution_count": 14,
   "metadata": {},
   "outputs": [],
   "source": [
    "@pipeline.task(depends_on=json_to_csv)\n",
    "def extract_titles(csv_file):\n",
    "    reader = csv.reader(csv_file)\n",
    "    header = next(reader)\n",
    "    idx = header.index('title')\n",
    "    \n",
    "    return (row[idx] for row in reader)"
   ]
  },
  {
   "cell_type": "code",
   "execution_count": 17,
   "metadata": {},
   "outputs": [],
   "source": [
    "@pipeline.task(depends_on=extract_titles)\n",
    "def clean_titles(titles):\n",
    "    punctuation = set(string.punctuation)\n",
    "    for title in titles:\n",
    "        title = title.lower()\n",
    "        title = ''.join(c for c in title if c not in punctuation)\n",
    "        yield title"
   ]
  },
  {
   "cell_type": "code",
   "execution_count": 18,
   "metadata": {},
   "outputs": [
    {
     "ename": "SyntaxError",
     "evalue": "unexpected EOF while parsing (<ipython-input-18-065f59e81fbc>, line 2)",
     "output_type": "error",
     "traceback": [
      "\u001b[0;36m  File \u001b[0;32m\"<ipython-input-18-065f59e81fbc>\"\u001b[0;36m, line \u001b[0;32m2\u001b[0m\n\u001b[0;31m    \u001b[0m\n\u001b[0m    ^\u001b[0m\n\u001b[0;31mSyntaxError\u001b[0m\u001b[0;31m:\u001b[0m unexpected EOF while parsing\n"
     ]
    }
   ],
   "source": [
    "def build_keyword_dict(titles):\n",
    "    "
   ]
  },
  {
   "cell_type": "code",
   "execution_count": 19,
   "metadata": {},
   "outputs": [],
   "source": [
    "import stop_words"
   ]
  },
  {
   "cell_type": "code",
   "execution_count": 23,
   "metadata": {},
   "outputs": [],
   "source": [
    "stopwords = stop_words.get_stop_words('en')"
   ]
  },
  {
   "cell_type": "code",
   "execution_count": null,
   "metadata": {},
   "outputs": [],
   "source": []
  }
 ],
 "metadata": {
  "kernelspec": {
   "display_name": "Python 3",
   "language": "python",
   "name": "python3"
  },
  "language_info": {
   "codemirror_mode": {
    "name": "ipython",
    "version": 3
   },
   "file_extension": ".py",
   "mimetype": "text/x-python",
   "name": "python",
   "nbconvert_exporter": "python",
   "pygments_lexer": "ipython3",
   "version": "3.5.6"
  }
 },
 "nbformat": 4,
 "nbformat_minor": 2
}
