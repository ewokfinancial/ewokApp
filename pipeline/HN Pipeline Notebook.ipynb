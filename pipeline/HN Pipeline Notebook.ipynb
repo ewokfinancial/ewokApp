{
 "cells": [
  {
   "cell_type": "code",
   "execution_count": 1,
   "metadata": {},
   "outputs": [],
   "source": [
    "from pipeline import Pipeline, build_csv\n",
    "from HNdata import HNScraper\n",
    "from collections import deque\n",
    "from datetime import datetime \n",
    "import csv\n",
    "import pickle\n",
    "import io\n",
    "import string\n",
    "import stop_words\n",
    "import pprint as pp"
   ]
  },
  {
   "cell_type": "code",
   "execution_count": 2,
   "metadata": {},
   "outputs": [],
   "source": [
    "# Initialize the pipeline class\n",
    "pipeline = Pipeline()"
   ]
  },
  {
   "cell_type": "code",
   "execution_count": 3,
   "metadata": {},
   "outputs": [],
   "source": [
    "@pipeline.task()\n",
    "def file_to_stories():\n",
    "    with open('stories_2016.pickle', 'rb') as pickle_file:\n",
    "        stories = pickle.load(pickle_file)\n",
    "    return stories"
   ]
  },
  {
   "cell_type": "code",
   "execution_count": 4,
   "metadata": {},
   "outputs": [],
   "source": [
    "@pipeline.task(depends_on=file_to_stories)\n",
    "def filter_stories(stories):\n",
    "    \"\"\"\n",
    "    Filters stories to find those with a score of 50 or more,\n",
    "    more than one comment and does not begin with 'Ask HN' and returns\n",
    "    a list\n",
    "    \"\"\"\n",
    "    def is_popular(story):\n",
    "        if 'dead' in story or 'deleted' in story:\n",
    "            return False\n",
    "        else:\n",
    "            return story['score'] > 50 and story['descendants'] > 1 and not story['title'].startswith('Ask HN')\n",
    "    return (story for story in stories if is_popular(story))"
   ]
  },
  {
   "cell_type": "code",
   "execution_count": 5,
   "metadata": {},
   "outputs": [],
   "source": [
    "@pipeline.task(depends_on=filter_stories)\n",
    "def json_to_csv(stories):\n",
    "    header = ['objectID', 'created_at', 'url', 'points', 'title']\n",
    "    lines = []\n",
    "    for story in stories:\n",
    "        if 'url' in story:\n",
    "            lines.append(\n",
    "                (story['id'], \n",
    "                 datetime.fromtimestamp(story['time']).isoformat(), \n",
    "                 story['url'], \n",
    "                 story['score'], \n",
    "                 story['title'])\n",
    "            )\n",
    "        else:\n",
    "            lines.append(\n",
    "                (story['id'], \n",
    "                 datetime.fromtimestamp(story['time']).isoformat(), \n",
    "                 'No URL Available', \n",
    "                 story['score'], \n",
    "                 story['title'])\n",
    "            )\n",
    "    return build_csv(lines, header=header, file=io.StringIO())"
   ]
  },
  {
   "cell_type": "code",
   "execution_count": 6,
   "metadata": {},
   "outputs": [],
   "source": [
    "@pipeline.task(depends_on=json_to_csv)\n",
    "def extract_titles(csv_file):\n",
    "    reader = csv.reader(csv_file)\n",
    "    header = next(reader)\n",
    "    idx = header.index('title')\n",
    "    \n",
    "    return (row[idx] for row in reader)"
   ]
  },
  {
   "cell_type": "code",
   "execution_count": 7,
   "metadata": {},
   "outputs": [],
   "source": [
    "@pipeline.task(depends_on=extract_titles)\n",
    "def clean_titles(titles):\n",
    "    punctuation = set(string.punctuation)\n",
    "    for title in titles:\n",
    "        title = title.lower()\n",
    "        title = ''.join(c for c in title if c not in punctuation)\n",
    "        yield title"
   ]
  },
  {
   "cell_type": "code",
   "execution_count": 8,
   "metadata": {},
   "outputs": [],
   "source": [
    "@pipeline.task(depends_on=clean_titles)\n",
    "def build_keyword_dict(titles):\n",
    "    stopwords = stop_words.get_stop_words('en')\n",
    "    word_frequency = {}\n",
    "    for title in titles:\n",
    "        for word in title.split():\n",
    "            if word in stopwords:\n",
    "                continue\n",
    "            else:\n",
    "                if word in word_frequency:\n",
    "                    word_frequency[word] += 1\n",
    "                else:\n",
    "                    word_frequency[word] = 1\n",
    "    return word_frequency"
   ]
  },
  {
   "cell_type": "code",
   "execution_count": 9,
   "metadata": {},
   "outputs": [],
   "source": [
    "@pipeline.task(depends_on=build_keyword_dict)\n",
    "def top_100_words(word_frequency):\n",
    "    return sorted(word_frequency.items(), key=lambda kv: kv[1], reverse=True)[:100]"
   ]
  },
  {
   "cell_type": "code",
   "execution_count": 10,
   "metadata": {},
   "outputs": [
    {
     "name": "stdout",
     "output_type": "stream",
     "text": [
      "{<function extract_titles at 0x10ffd9950>: [<function clean_titles at 0x10ffd9c80>],\n",
      " <function json_to_csv at 0x10ffd99d8>: [<function extract_titles at 0x10ffd9950>],\n",
      " <function file_to_stories at 0x10ffd9a60>: [<function filter_stories at 0x10ffd9bf8>],\n",
      " <function top_100_words at 0x10ffd9ae8>: [],\n",
      " <function build_keyword_dict at 0x10ffd9b70>: [<function top_100_words at 0x10ffd9ae8>],\n",
      " <function filter_stories at 0x10ffd9bf8>: [<function json_to_csv at 0x10ffd99d8>],\n",
      " <function clean_titles at 0x10ffd9c80>: [<function build_keyword_dict at 0x10ffd9b70>]}\n"
     ]
    }
   ],
   "source": [
    "pp.pprint(pipeline.tasks.graph)"
   ]
  },
  {
   "cell_type": "code",
   "execution_count": 11,
   "metadata": {},
   "outputs": [],
   "source": [
    "ran = pipeline.run()"
   ]
  },
  {
   "cell_type": "code",
   "execution_count": 12,
   "metadata": {},
   "outputs": [
    {
     "name": "stdout",
     "output_type": "stream",
     "text": [
      "[('–', 37), ('hn', 27), ('show', 27), ('google', 20), ('apple', 17), ('using', 16), ('new', 12), ('linux', 10), ('react', 9), ('data', 9), ('web', 9), ('life', 8), ('san', 8), ('python', 8), ('software', 8), ('can', 7), ('says', 7), ('access', 7), ('now', 7), ('system', 7), ('windows', 7), ('2016', 7), ('us', 7), ('yc', 7), ('code', 7), ('guide', 7), ('app', 7), ('people', 7), ('iphone', 7), ('video', 7), ('phones', 6), ('free', 6), ('c', 6), ('time', 6), ('stop', 6), ('vs', 6), ('fast', 6), ('computer', 6), ('fbi', 6), ('programming', 6), ('swift', 6), ('first', 6), ('2015', 5), ('neural', 5), ('one', 5), ('phone', 5), ('simple', 5), ('go', 5), ('update', 5), ('world', 5), ('better', 5), ('real', 5), ('wifi', 5), ('case', 5), ('bill', 5), ('apps', 5), ('3', 5), ('database', 5), ('hack', 5), ('functional', 5), ('git', 5), ('surveillance', 5), ('just', 5), ('language', 5), ('years', 5), ('dont', 5), ('way', 5), ('internet', 5), ('back', 5), ('security', 5), ('working', 4), ('play', 4), ('understand', 4), ('ethereum', 4), ('introduction', 4), ('building', 4), ('faster', 4), ('support', 4), ('startup', 4), ('voice', 4), ('letter', 4), ('may', 4), ('network', 4), ('facebook', 4), ('bernardino', 4), ('calls', 4), ('engineering', 4), ('mysterious', 4), ('users', 4), ('20', 4), ('distributed', 4), ('javascript', 4), ('project', 4), ('learned', 4), ('company', 4), ('work', 4), ('file', 4), ('rise', 4), ('microsoft', 4), ('openssl', 4)]\n"
     ]
    }
   ],
   "source": [
    "print(ran[top_100_words])"
   ]
  },
  {
   "cell_type": "code",
   "execution_count": null,
   "metadata": {},
   "outputs": [],
   "source": []
  },
  {
   "cell_type": "code",
   "execution_count": null,
   "metadata": {},
   "outputs": [],
   "source": []
  }
 ],
 "metadata": {
  "kernelspec": {
   "display_name": "Python 3",
   "language": "python",
   "name": "python3"
  },
  "language_info": {
   "codemirror_mode": {
    "name": "ipython",
    "version": 3
   },
   "file_extension": ".py",
   "mimetype": "text/x-python",
   "name": "python",
   "nbconvert_exporter": "python",
   "pygments_lexer": "ipython3",
   "version": "3.5.6"
  }
 },
 "nbformat": 4,
 "nbformat_minor": 2
}
